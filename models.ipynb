{
 "cells": [
  {
   "metadata": {},
   "cell_type": "markdown",
   "source": "# Model implementations"
  },
  {
   "metadata": {
    "ExecuteTime": {
     "end_time": "2024-10-06T21:31:16.671736Z",
     "start_time": "2024-10-06T21:30:35.010577Z"
    }
   },
   "cell_type": "code",
   "source": [
    "import pandas as pd\n",
    "from surprise import Reader, Dataset\n",
    "\n",
    "# load the ratings data\n",
    "ratings = pd.read_csv('MovieLens_data/ratings_cleaned.csv')\n",
    "\n",
    "# define a Reader and load the data into a Dataset\n",
    "reader = Reader()\n",
    "data = Dataset.load_from_df(ratings[['userId', 'movieId', 'rating']], reader)\n",
    "\n",
    "# get 1% of the data to tune the hyperparameters of the SVD++ model\n",
    "ratings_1 = ratings.sample(frac=0.1, random_state=1)\n",
    "data_10 = Dataset.load_from_df(ratings_1[['userId', 'movieId', 'rating']], reader)\n",
    "\n",
    "average_scores = [] # storing the average scores of the cross validation for each model to plot at the end (name of the model, score)"
   ],
   "outputs": [],
   "execution_count": 4
  },
  {
   "metadata": {},
   "cell_type": "markdown",
   "source": "## Normal Predictor Model"
  },
  {
   "metadata": {
    "ExecuteTime": {
     "end_time": "2024-10-06T01:44:00.245708Z",
     "start_time": "2024-10-06T01:30:59.548454Z"
    }
   },
   "cell_type": "code",
   "source": [
    "from surprise import NormalPredictor\n",
    "from surprise.model_selection import GridSearchCV\n",
    "\n",
    "# getting the best model using grid search CV\n",
    "params_grid = {} # no hyperparameters to tune\n",
    "grid_search = GridSearchCV(NormalPredictor, params_grid, measures=['rmse', 'mae'], cv=5, n_jobs=-1)\n",
    "grid_search.fit(data) # fitting the best model\n",
    "\n",
    "print(\"Best score found in the gridSearchCV: \", grid_search.best_score['rmse'])\n",
    "#print(\"Best parameters found in the gridSearchCV: \", grid_search.best_params['rmse'])\n",
    "\n",
    "average_scores.append(('Normal Predictor', grid_search.best_score['rmse'])) # storing the average RMSE of the best model"
   ],
   "outputs": [
    {
     "name": "stdout",
     "output_type": "stream",
     "text": [
      "Best score found in the gridSearchCV:  1.4325232539910562\n"
     ]
    }
   ],
   "execution_count": 4
  },
  {
   "metadata": {},
   "cell_type": "markdown",
   "source": "## BaselineOnly Model"
  },
  {
   "metadata": {
    "ExecuteTime": {
     "end_time": "2024-10-06T02:55:40.391509Z",
     "start_time": "2024-10-06T01:44:00.609254Z"
    }
   },
   "cell_type": "code",
   "source": [
    "from surprise import BaselineOnly\n",
    "from surprise.model_selection import GridSearchCV\n",
    "\n",
    "# getting the best model using grid search CV\n",
    "params_grid = {'bsl_options': {'method': ['als', 'sgd'], 'reg_i': [5, 10, 15], 'reg_u': [5, 10, 15]}}\n",
    "\n",
    "grid_search = GridSearchCV(BaselineOnly, params_grid, measures=['rmse', 'mae'], cv=5, n_jobs=-1)\n",
    "grid_search.fit(data) # fitting the best model\n",
    "\n",
    "print(\"Best score found in the gridSearchCV: \", grid_search.best_score['rmse'])\n",
    "print(\"Best parameters found in the gridSearchCV: \", grid_search.best_params['rmse'])\n",
    "\n",
    "average_scores.append(('BaselineOnly', grid_search.best_score['rmse'])) # storing the average RMSE of the best model"
   ],
   "outputs": [
    {
     "name": "stderr",
     "output_type": "stream",
     "text": [
      "C:\\Users\\pedro\\AppData\\Local\\Packages\\PythonSoftwareFoundation.Python.3.11_qbz5n2kfra8p0\\LocalCache\\local-packages\\Python311\\site-packages\\joblib\\externals\\loky\\process_executor.py:752: UserWarning: A worker stopped while some jobs were given to the executor. This can be caused by a too short worker timeout or by a memory leak.\n",
      "  warnings.warn(\n"
     ]
    },
    {
     "name": "stdout",
     "output_type": "stream",
     "text": [
      "Best score found in the gridSearchCV:  0.8571572130397502\n",
      "Best parameters found in the gridSearchCV:  {'bsl_options': {'method': 'als', 'reg_i': 5, 'reg_u': 5}}\n"
     ]
    }
   ],
   "execution_count": 5
  },
  {
   "metadata": {},
   "cell_type": "markdown",
   "source": "## KNN Models"
  },
  {
   "metadata": {},
   "cell_type": "markdown",
   "source": "### KNN Basic Model"
  },
  {
   "metadata": {},
   "cell_type": "code",
   "outputs": [],
   "execution_count": null,
   "source": [
    "from surprise import KNNBasic\n",
    "from surprise.model_selection import GridSearchCV\n",
    "\n",
    "# getting the best model using grid search CV\n",
    "params_grid = {'k': [20, 30, 40, 50], 'sim_options': {'name': ['cosine', 'msd', 'pearson']}}\n",
    "grid_search = GridSearchCV(KNNBasic, params_grid, measures=['rmse', 'mae'], cv=5, n_jobs=1, joblib_verbose=100)\n",
    "grid_search.fit(data_10) # fitting the best model\n",
    "\n",
    "print(\"Best score found in the gridSearchCV: \", grid_search.best_score['rmse'])\n",
    "print(\"Best parameters found in the gridSearchCV: \", grid_search.best_params['rmse'])\n",
    "\n",
    "average_scores.append(('KNN Basic', grid_search.best_score['rmse'])) # storing the average RMSE of the best model"
   ]
  },
  {
   "metadata": {},
   "cell_type": "markdown",
   "source": "### KNN With Means Model"
  },
  {
   "metadata": {},
   "cell_type": "code",
   "outputs": [],
   "execution_count": null,
   "source": [
    "from surprise import KNNWithMeans\n",
    "from surprise.model_selection import GridSearchCV\n",
    "\n",
    "# getting the best model using grid search CV\n",
    "params_grid = {'k': [10, 20, 30, 40, 50], 'sim_options': {'name': ['cosine', 'msd', 'pearson']}}\n",
    "grid_search = GridSearchCV(KNNWithMeans, params_grid, measures=['rmse', 'mae'], cv=5, n_jobs=1, joblib_verbose=100)\n",
    "grid_search.fit(data_10) # fitting the best model\n",
    "\n",
    "print(\"Best score found in the gridSearchCV: \", grid_search.best_score['rmse'])\n",
    "print(\"Best parameters found in the gridSearchCV: \", grid_search.best_params['rmse'])\n",
    "\n",
    "average_scores.append(('KNN With Means', grid_search.best_score['rmse'])) # storing the average RMSE of the best model"
   ]
  },
  {
   "metadata": {},
   "cell_type": "markdown",
   "source": "## SVD, SVD++ and NMF Models"
  },
  {
   "metadata": {},
   "cell_type": "markdown",
   "source": "### SVD Model"
  },
  {
   "metadata": {
    "ExecuteTime": {
     "end_time": "2024-10-06T04:38:35.721217Z",
     "start_time": "2024-10-06T02:55:40.664514Z"
    }
   },
   "cell_type": "code",
   "source": [
    "from surprise import SVD\n",
    "from surprise.model_selection import GridSearchCV\n",
    "\n",
    "# getting the best model using grid search CV (only the training set)\n",
    "params_grid = {'n_epochs': [15, 20, 25], 'lr_all': [0.002, 0.005], 'reg_all': [0.4, 0.6]}\n",
    "grid_search = GridSearchCV(SVD, params_grid, measures=['rmse', 'mae'], cv=5, n_jobs=1, joblib_verbose=100)\n",
    "grid_search.fit(data) # fitting the best model\n",
    "\n",
    "print(\"Best score found in the gridSearchCV: \", grid_search.best_score['rmse'])\n",
    "print(\"Best parameters found in the gridSearchCV: \", grid_search.best_params['rmse'])\n",
    "\n",
    "average_scores.append(('SVD', grid_search.best_score['rmse'])) # storing the average RMSE of the best model"
   ],
   "outputs": [
    {
     "name": "stderr",
     "output_type": "stream",
     "text": [
      "C:\\Users\\pedro\\AppData\\Local\\Packages\\PythonSoftwareFoundation.Python.3.11_qbz5n2kfra8p0\\LocalCache\\local-packages\\Python311\\site-packages\\joblib\\externals\\loky\\process_executor.py:752: UserWarning: A worker stopped while some jobs were given to the executor. This can be caused by a too short worker timeout or by a memory leak.\n",
      "  warnings.warn(\n"
     ]
    },
    {
     "name": "stdout",
     "output_type": "stream",
     "text": [
      "Best score found in the gridSearchCV:  0.8803879344269481\n",
      "Best parameters found in the gridSearchCV:  {'n_epochs': 20, 'lr_all': 0.002, 'reg_all': 0.4}\n"
     ]
    }
   ],
   "execution_count": 6
  },
  {
   "metadata": {},
   "cell_type": "markdown",
   "source": "### SVD++ Model"
  },
  {
   "metadata": {
    "ExecuteTime": {
     "end_time": "2024-10-06T23:38:10.582263Z",
     "start_time": "2024-10-06T21:31:38.399337Z"
    }
   },
   "cell_type": "code",
   "source": [
    "from surprise import SVDpp\n",
    "from surprise.model_selection import GridSearchCV\n",
    "\n",
    "# getting the best model using grid search CV\n",
    "params_grid = {'n_epochs': [15, 20, 25], 'lr_all': [0.002, 0.005], 'reg_all': [0.4, 0.6]}\n",
    "grid_search = GridSearchCV(SVDpp, params_grid, measures=['rmse', 'mae'], cv=5, n_jobs=1, joblib_verbose=100)\n",
    "grid_search.fit(data_10) # fitting the best model\n",
    "\n",
    "print(\"Best score found in the gridSearchCV: \", grid_search.best_score['rmse'])\n",
    "print(\"Best parameters found in the gridSearchCV: \", grid_search.best_params['rmse'])\n",
    "\n",
    "average_scores.append(('SVD++', grid_search.best_score['rmse'])) # storing the average RMSE of the best model"
   ],
   "outputs": [
    {
     "name": "stdout",
     "output_type": "stream",
     "text": [
      "[Parallel(n_jobs=1)]: Done   1 tasks      | elapsed:  2.1min\n",
      "[Parallel(n_jobs=1)]: Done   2 tasks      | elapsed:  4.1min\n",
      "[Parallel(n_jobs=1)]: Done   3 tasks      | elapsed:  5.8min\n",
      "[Parallel(n_jobs=1)]: Done   4 tasks      | elapsed:  7.5min\n",
      "[Parallel(n_jobs=1)]: Done   5 tasks      | elapsed:  9.3min\n",
      "[Parallel(n_jobs=1)]: Done   6 tasks      | elapsed: 11.0min\n",
      "[Parallel(n_jobs=1)]: Done   7 tasks      | elapsed: 12.7min\n",
      "[Parallel(n_jobs=1)]: Done   8 tasks      | elapsed: 14.6min\n",
      "[Parallel(n_jobs=1)]: Done   9 tasks      | elapsed: 16.3min\n",
      "[Parallel(n_jobs=1)]: Done  10 tasks      | elapsed: 18.0min\n",
      "[Parallel(n_jobs=1)]: Done  11 tasks      | elapsed: 19.7min\n",
      "[Parallel(n_jobs=1)]: Done  12 tasks      | elapsed: 21.3min\n",
      "[Parallel(n_jobs=1)]: Done  13 tasks      | elapsed: 23.1min\n",
      "[Parallel(n_jobs=1)]: Done  14 tasks      | elapsed: 24.7min\n",
      "[Parallel(n_jobs=1)]: Done  15 tasks      | elapsed: 26.3min\n",
      "[Parallel(n_jobs=1)]: Done  16 tasks      | elapsed: 27.9min\n",
      "[Parallel(n_jobs=1)]: Done  17 tasks      | elapsed: 29.6min\n",
      "[Parallel(n_jobs=1)]: Done  18 tasks      | elapsed: 31.2min\n",
      "[Parallel(n_jobs=1)]: Done  19 tasks      | elapsed: 32.9min\n",
      "[Parallel(n_jobs=1)]: Done  20 tasks      | elapsed: 34.5min\n",
      "[Parallel(n_jobs=1)]: Done  21 tasks      | elapsed: 36.7min\n",
      "[Parallel(n_jobs=1)]: Done  22 tasks      | elapsed: 38.8min\n",
      "[Parallel(n_jobs=1)]: Done  23 tasks      | elapsed: 40.8min\n",
      "[Parallel(n_jobs=1)]: Done  24 tasks      | elapsed: 43.0min\n",
      "[Parallel(n_jobs=1)]: Done  25 tasks      | elapsed: 45.2min\n",
      "[Parallel(n_jobs=1)]: Done  26 tasks      | elapsed: 47.3min\n",
      "[Parallel(n_jobs=1)]: Done  27 tasks      | elapsed: 49.5min\n",
      "[Parallel(n_jobs=1)]: Done  28 tasks      | elapsed: 51.6min\n",
      "[Parallel(n_jobs=1)]: Done  29 tasks      | elapsed: 53.7min\n",
      "[Parallel(n_jobs=1)]: Done  30 tasks      | elapsed: 55.7min\n",
      "[Parallel(n_jobs=1)]: Done  31 tasks      | elapsed: 57.9min\n",
      "[Parallel(n_jobs=1)]: Done  32 tasks      | elapsed: 59.8min\n",
      "[Parallel(n_jobs=1)]: Done  33 tasks      | elapsed: 61.9min\n",
      "[Parallel(n_jobs=1)]: Done  34 tasks      | elapsed: 64.0min\n",
      "[Parallel(n_jobs=1)]: Done  35 tasks      | elapsed: 66.0min\n",
      "[Parallel(n_jobs=1)]: Done  36 tasks      | elapsed: 68.0min\n",
      "[Parallel(n_jobs=1)]: Done  37 tasks      | elapsed: 70.1min\n",
      "[Parallel(n_jobs=1)]: Done  38 tasks      | elapsed: 72.2min\n",
      "[Parallel(n_jobs=1)]: Done  39 tasks      | elapsed: 74.2min\n",
      "[Parallel(n_jobs=1)]: Done  40 tasks      | elapsed: 76.1min\n",
      "[Parallel(n_jobs=1)]: Done  41 tasks      | elapsed: 78.6min\n",
      "[Parallel(n_jobs=1)]: Done  42 tasks      | elapsed: 81.0min\n",
      "[Parallel(n_jobs=1)]: Done  43 tasks      | elapsed: 83.5min\n",
      "[Parallel(n_jobs=1)]: Done  44 tasks      | elapsed: 86.0min\n",
      "[Parallel(n_jobs=1)]: Done  45 tasks      | elapsed: 88.4min\n",
      "[Parallel(n_jobs=1)]: Done  46 tasks      | elapsed: 90.8min\n",
      "[Parallel(n_jobs=1)]: Done  47 tasks      | elapsed: 93.3min\n",
      "[Parallel(n_jobs=1)]: Done  48 tasks      | elapsed: 95.8min\n",
      "[Parallel(n_jobs=1)]: Done  49 tasks      | elapsed: 98.2min\n",
      "[Parallel(n_jobs=1)]: Done  50 tasks      | elapsed: 100.6min\n",
      "[Parallel(n_jobs=1)]: Done  51 tasks      | elapsed: 103.1min\n",
      "[Parallel(n_jobs=1)]: Done  52 tasks      | elapsed: 105.6min\n",
      "[Parallel(n_jobs=1)]: Done  53 tasks      | elapsed: 108.1min\n",
      "[Parallel(n_jobs=1)]: Done  54 tasks      | elapsed: 110.6min\n",
      "[Parallel(n_jobs=1)]: Done  55 tasks      | elapsed: 113.2min\n",
      "[Parallel(n_jobs=1)]: Done  56 tasks      | elapsed: 115.8min\n",
      "[Parallel(n_jobs=1)]: Done  57 tasks      | elapsed: 118.4min\n",
      "[Parallel(n_jobs=1)]: Done  58 tasks      | elapsed: 121.0min\n",
      "[Parallel(n_jobs=1)]: Done  59 tasks      | elapsed: 123.6min\n",
      "[Parallel(n_jobs=1)]: Done  60 tasks      | elapsed: 126.1min\n",
      "[Parallel(n_jobs=1)]: Done  60 tasks      | elapsed: 126.1min\n",
      "Best score found in the gridSearchCV:  0.8945842061742721\n",
      "Best parameters found in the gridSearchCV:  {'n_epochs': 25, 'lr_all': 0.005, 'reg_all': 0.4}\n"
     ]
    }
   ],
   "execution_count": 5
  },
  {
   "metadata": {},
   "cell_type": "markdown",
   "source": "### Non-negative Matrix Factorization Models (NMF)"
  },
  {
   "metadata": {
    "ExecuteTime": {
     "end_time": "2024-10-07T01:04:37.941088Z",
     "start_time": "2024-10-06T23:38:10.667002Z"
    }
   },
   "cell_type": "code",
   "source": [
    "from surprise import NMF\n",
    "from surprise.model_selection import GridSearchCV\n",
    "\n",
    "# getting the best model using grid search CV\n",
    "params_grid = {'n_epochs': [15, 20, 25], 'lr_bu': [0.002, 0.005], 'lr_bi': [0.002, 0.005], 'reg_pu': [0.4, 0.6], 'reg_qi': [0.4, 0.6]}\n",
    "grid_search = GridSearchCV(NMF, params_grid, measures=['rmse', 'mae'], cv=5, n_jobs=1, joblib_verbose=100)\n",
    "grid_search.fit(data_10) # fitting the best model\n",
    "    \n",
    "print(\"Best score found in the gridSearchCV: \", grid_search.best_score['rmse'])\n",
    "print(\"Best parameters found in the gridSearchCV: \", grid_search.best_params['rmse'])\n",
    "\n",
    "average_scores.append(('NMF', grid_search.best_score['rmse'])) # storing the average RMSE of the best model"
   ],
   "outputs": [
    {
     "name": "stdout",
     "output_type": "stream",
     "text": [
      "[Parallel(n_jobs=1)]: Done   1 tasks      | elapsed:   17.8s\n",
      "[Parallel(n_jobs=1)]: Done   2 tasks      | elapsed:   33.4s\n",
      "[Parallel(n_jobs=1)]: Done   3 tasks      | elapsed:   51.9s\n",
      "[Parallel(n_jobs=1)]: Done   4 tasks      | elapsed:  1.1min\n",
      "[Parallel(n_jobs=1)]: Done   5 tasks      | elapsed:  1.4min\n",
      "[Parallel(n_jobs=1)]: Done   6 tasks      | elapsed:  1.7min\n",
      "[Parallel(n_jobs=1)]: Done   7 tasks      | elapsed:  2.0min\n",
      "[Parallel(n_jobs=1)]: Done   8 tasks      | elapsed:  2.3min\n",
      "[Parallel(n_jobs=1)]: Done   9 tasks      | elapsed:  2.6min\n",
      "[Parallel(n_jobs=1)]: Done  10 tasks      | elapsed:  3.0min\n",
      "[Parallel(n_jobs=1)]: Done  11 tasks      | elapsed:  3.3min\n",
      "[Parallel(n_jobs=1)]: Done  12 tasks      | elapsed:  3.6min\n",
      "[Parallel(n_jobs=1)]: Done  13 tasks      | elapsed:  3.9min\n",
      "[Parallel(n_jobs=1)]: Done  14 tasks      | elapsed:  4.1min\n",
      "[Parallel(n_jobs=1)]: Done  15 tasks      | elapsed:  4.4min\n",
      "[Parallel(n_jobs=1)]: Done  16 tasks      | elapsed:  4.8min\n",
      "[Parallel(n_jobs=1)]: Done  17 tasks      | elapsed:  5.1min\n",
      "[Parallel(n_jobs=1)]: Done  18 tasks      | elapsed:  5.5min\n",
      "[Parallel(n_jobs=1)]: Done  19 tasks      | elapsed:  5.7min\n",
      "[Parallel(n_jobs=1)]: Done  20 tasks      | elapsed:  6.1min\n",
      "[Parallel(n_jobs=1)]: Done  21 tasks      | elapsed:  6.4min\n",
      "[Parallel(n_jobs=1)]: Done  22 tasks      | elapsed:  6.7min\n",
      "[Parallel(n_jobs=1)]: Done  23 tasks      | elapsed:  7.0min\n",
      "[Parallel(n_jobs=1)]: Done  24 tasks      | elapsed:  7.3min\n",
      "[Parallel(n_jobs=1)]: Done  25 tasks      | elapsed:  7.7min\n",
      "[Parallel(n_jobs=1)]: Done  26 tasks      | elapsed:  8.0min\n",
      "[Parallel(n_jobs=1)]: Done  27 tasks      | elapsed:  8.4min\n",
      "[Parallel(n_jobs=1)]: Done  28 tasks      | elapsed:  8.7min\n",
      "[Parallel(n_jobs=1)]: Done  29 tasks      | elapsed:  9.0min\n",
      "[Parallel(n_jobs=1)]: Done  30 tasks      | elapsed:  9.3min\n",
      "[Parallel(n_jobs=1)]: Done  31 tasks      | elapsed:  9.6min\n",
      "[Parallel(n_jobs=1)]: Done  32 tasks      | elapsed:  9.8min\n",
      "[Parallel(n_jobs=1)]: Done  33 tasks      | elapsed: 10.1min\n",
      "[Parallel(n_jobs=1)]: Done  34 tasks      | elapsed: 10.4min\n",
      "[Parallel(n_jobs=1)]: Done  35 tasks      | elapsed: 10.8min\n",
      "[Parallel(n_jobs=1)]: Done  36 tasks      | elapsed: 11.1min\n",
      "[Parallel(n_jobs=1)]: Done  37 tasks      | elapsed: 11.4min\n",
      "[Parallel(n_jobs=1)]: Done  38 tasks      | elapsed: 11.7min\n",
      "[Parallel(n_jobs=1)]: Done  39 tasks      | elapsed: 12.0min\n",
      "[Parallel(n_jobs=1)]: Done  40 tasks      | elapsed: 12.3min\n",
      "[Parallel(n_jobs=1)]: Done  41 tasks      | elapsed: 12.6min\n",
      "[Parallel(n_jobs=1)]: Done  42 tasks      | elapsed: 13.0min\n",
      "[Parallel(n_jobs=1)]: Done  43 tasks      | elapsed: 13.2min\n",
      "[Parallel(n_jobs=1)]: Done  44 tasks      | elapsed: 13.5min\n",
      "[Parallel(n_jobs=1)]: Done  45 tasks      | elapsed: 13.8min\n",
      "[Parallel(n_jobs=1)]: Done  46 tasks      | elapsed: 14.1min\n",
      "[Parallel(n_jobs=1)]: Done  47 tasks      | elapsed: 14.5min\n",
      "[Parallel(n_jobs=1)]: Done  48 tasks      | elapsed: 14.8min\n",
      "[Parallel(n_jobs=1)]: Done  49 tasks      | elapsed: 15.0min\n",
      "[Parallel(n_jobs=1)]: Done  50 tasks      | elapsed: 15.3min\n",
      "[Parallel(n_jobs=1)]: Done  51 tasks      | elapsed: 15.5min\n",
      "[Parallel(n_jobs=1)]: Done  52 tasks      | elapsed: 15.8min\n",
      "[Parallel(n_jobs=1)]: Done  53 tasks      | elapsed: 16.0min\n",
      "[Parallel(n_jobs=1)]: Done  54 tasks      | elapsed: 16.3min\n",
      "[Parallel(n_jobs=1)]: Done  55 tasks      | elapsed: 16.5min\n",
      "[Parallel(n_jobs=1)]: Done  56 tasks      | elapsed: 16.8min\n",
      "[Parallel(n_jobs=1)]: Done  57 tasks      | elapsed: 17.0min\n",
      "[Parallel(n_jobs=1)]: Done  58 tasks      | elapsed: 17.3min\n",
      "[Parallel(n_jobs=1)]: Done  59 tasks      | elapsed: 17.6min\n",
      "[Parallel(n_jobs=1)]: Done  60 tasks      | elapsed: 17.8min\n",
      "[Parallel(n_jobs=1)]: Done  61 tasks      | elapsed: 18.1min\n",
      "[Parallel(n_jobs=1)]: Done  62 tasks      | elapsed: 18.3min\n",
      "[Parallel(n_jobs=1)]: Done  63 tasks      | elapsed: 18.6min\n",
      "[Parallel(n_jobs=1)]: Done  64 tasks      | elapsed: 18.9min\n",
      "[Parallel(n_jobs=1)]: Done  65 tasks      | elapsed: 19.1min\n",
      "[Parallel(n_jobs=1)]: Done  66 tasks      | elapsed: 19.4min\n",
      "[Parallel(n_jobs=1)]: Done  67 tasks      | elapsed: 19.6min\n",
      "[Parallel(n_jobs=1)]: Done  68 tasks      | elapsed: 19.9min\n",
      "[Parallel(n_jobs=1)]: Done  69 tasks      | elapsed: 20.1min\n",
      "[Parallel(n_jobs=1)]: Done  70 tasks      | elapsed: 20.4min\n",
      "[Parallel(n_jobs=1)]: Done  71 tasks      | elapsed: 20.6min\n",
      "[Parallel(n_jobs=1)]: Done  72 tasks      | elapsed: 20.9min\n",
      "[Parallel(n_jobs=1)]: Done  73 tasks      | elapsed: 21.1min\n",
      "[Parallel(n_jobs=1)]: Done  74 tasks      | elapsed: 21.4min\n",
      "[Parallel(n_jobs=1)]: Done  75 tasks      | elapsed: 21.7min\n",
      "[Parallel(n_jobs=1)]: Done  76 tasks      | elapsed: 22.1min\n",
      "[Parallel(n_jobs=1)]: Done  77 tasks      | elapsed: 22.4min\n",
      "[Parallel(n_jobs=1)]: Done  78 tasks      | elapsed: 22.7min\n",
      "[Parallel(n_jobs=1)]: Done  79 tasks      | elapsed: 23.0min\n",
      "[Parallel(n_jobs=1)]: Done  80 tasks      | elapsed: 23.3min\n",
      "[Parallel(n_jobs=1)]: Done  81 tasks      | elapsed: 23.6min\n",
      "[Parallel(n_jobs=1)]: Done  82 tasks      | elapsed: 23.9min\n",
      "[Parallel(n_jobs=1)]: Done  83 tasks      | elapsed: 24.3min\n",
      "[Parallel(n_jobs=1)]: Done  84 tasks      | elapsed: 24.6min\n",
      "[Parallel(n_jobs=1)]: Done  85 tasks      | elapsed: 24.9min\n",
      "[Parallel(n_jobs=1)]: Done  86 tasks      | elapsed: 25.2min\n",
      "[Parallel(n_jobs=1)]: Done  87 tasks      | elapsed: 25.5min\n",
      "[Parallel(n_jobs=1)]: Done  88 tasks      | elapsed: 25.9min\n",
      "[Parallel(n_jobs=1)]: Done  89 tasks      | elapsed: 26.3min\n",
      "[Parallel(n_jobs=1)]: Done  90 tasks      | elapsed: 26.7min\n",
      "[Parallel(n_jobs=1)]: Done  91 tasks      | elapsed: 27.0min\n",
      "[Parallel(n_jobs=1)]: Done  92 tasks      | elapsed: 27.4min\n",
      "[Parallel(n_jobs=1)]: Done  93 tasks      | elapsed: 27.8min\n",
      "[Parallel(n_jobs=1)]: Done  94 tasks      | elapsed: 28.3min\n",
      "[Parallel(n_jobs=1)]: Done  95 tasks      | elapsed: 28.7min\n",
      "[Parallel(n_jobs=1)]: Done  96 tasks      | elapsed: 29.0min\n",
      "[Parallel(n_jobs=1)]: Done  97 tasks      | elapsed: 29.3min\n",
      "[Parallel(n_jobs=1)]: Done  98 tasks      | elapsed: 29.7min\n",
      "[Parallel(n_jobs=1)]: Done  99 tasks      | elapsed: 30.0min\n",
      "[Parallel(n_jobs=1)]: Done 100 tasks      | elapsed: 30.4min\n",
      "[Parallel(n_jobs=1)]: Done 101 tasks      | elapsed: 30.8min\n",
      "[Parallel(n_jobs=1)]: Done 102 tasks      | elapsed: 31.2min\n",
      "[Parallel(n_jobs=1)]: Done 103 tasks      | elapsed: 31.6min\n",
      "[Parallel(n_jobs=1)]: Done 104 tasks      | elapsed: 32.0min\n",
      "[Parallel(n_jobs=1)]: Done 105 tasks      | elapsed: 32.3min\n",
      "[Parallel(n_jobs=1)]: Done 106 tasks      | elapsed: 32.7min\n",
      "[Parallel(n_jobs=1)]: Done 107 tasks      | elapsed: 33.0min\n",
      "[Parallel(n_jobs=1)]: Done 108 tasks      | elapsed: 33.4min\n",
      "[Parallel(n_jobs=1)]: Done 109 tasks      | elapsed: 33.8min\n",
      "[Parallel(n_jobs=1)]: Done 110 tasks      | elapsed: 34.1min\n",
      "[Parallel(n_jobs=1)]: Done 111 tasks      | elapsed: 34.5min\n",
      "[Parallel(n_jobs=1)]: Done 112 tasks      | elapsed: 34.9min\n",
      "[Parallel(n_jobs=1)]: Done 113 tasks      | elapsed: 35.3min\n",
      "[Parallel(n_jobs=1)]: Done 114 tasks      | elapsed: 35.6min\n",
      "[Parallel(n_jobs=1)]: Done 115 tasks      | elapsed: 36.0min\n",
      "[Parallel(n_jobs=1)]: Done 116 tasks      | elapsed: 36.3min\n",
      "[Parallel(n_jobs=1)]: Done 117 tasks      | elapsed: 36.7min\n",
      "[Parallel(n_jobs=1)]: Done 118 tasks      | elapsed: 37.1min\n",
      "[Parallel(n_jobs=1)]: Done 119 tasks      | elapsed: 37.4min\n",
      "[Parallel(n_jobs=1)]: Done 120 tasks      | elapsed: 37.8min\n",
      "[Parallel(n_jobs=1)]: Done 121 tasks      | elapsed: 38.2min\n",
      "[Parallel(n_jobs=1)]: Done 122 tasks      | elapsed: 38.5min\n",
      "[Parallel(n_jobs=1)]: Done 123 tasks      | elapsed: 38.9min\n",
      "[Parallel(n_jobs=1)]: Done 124 tasks      | elapsed: 39.3min\n",
      "[Parallel(n_jobs=1)]: Done 125 tasks      | elapsed: 39.6min\n",
      "[Parallel(n_jobs=1)]: Done 126 tasks      | elapsed: 40.0min\n",
      "[Parallel(n_jobs=1)]: Done 127 tasks      | elapsed: 40.3min\n",
      "[Parallel(n_jobs=1)]: Done 128 tasks      | elapsed: 40.7min\n",
      "[Parallel(n_jobs=1)]: Done 129 tasks      | elapsed: 41.1min\n",
      "[Parallel(n_jobs=1)]: Done 130 tasks      | elapsed: 41.4min\n",
      "[Parallel(n_jobs=1)]: Done 131 tasks      | elapsed: 41.8min\n",
      "[Parallel(n_jobs=1)]: Done 132 tasks      | elapsed: 42.1min\n",
      "[Parallel(n_jobs=1)]: Done 133 tasks      | elapsed: 42.5min\n",
      "[Parallel(n_jobs=1)]: Done 134 tasks      | elapsed: 42.8min\n",
      "[Parallel(n_jobs=1)]: Done 135 tasks      | elapsed: 43.2min\n",
      "[Parallel(n_jobs=1)]: Done 136 tasks      | elapsed: 43.6min\n",
      "[Parallel(n_jobs=1)]: Done 137 tasks      | elapsed: 43.9min\n",
      "[Parallel(n_jobs=1)]: Done 138 tasks      | elapsed: 44.3min\n",
      "[Parallel(n_jobs=1)]: Done 139 tasks      | elapsed: 44.6min\n",
      "[Parallel(n_jobs=1)]: Done 140 tasks      | elapsed: 45.0min\n",
      "[Parallel(n_jobs=1)]: Done 141 tasks      | elapsed: 45.4min\n",
      "[Parallel(n_jobs=1)]: Done 142 tasks      | elapsed: 45.7min\n",
      "[Parallel(n_jobs=1)]: Done 143 tasks      | elapsed: 46.1min\n",
      "[Parallel(n_jobs=1)]: Done 144 tasks      | elapsed: 46.5min\n",
      "[Parallel(n_jobs=1)]: Done 145 tasks      | elapsed: 46.8min\n",
      "[Parallel(n_jobs=1)]: Done 146 tasks      | elapsed: 47.2min\n",
      "[Parallel(n_jobs=1)]: Done 147 tasks      | elapsed: 47.5min\n",
      "[Parallel(n_jobs=1)]: Done 148 tasks      | elapsed: 47.9min\n",
      "[Parallel(n_jobs=1)]: Done 149 tasks      | elapsed: 48.3min\n",
      "[Parallel(n_jobs=1)]: Done 150 tasks      | elapsed: 48.7min\n",
      "[Parallel(n_jobs=1)]: Done 151 tasks      | elapsed: 49.1min\n",
      "[Parallel(n_jobs=1)]: Done 152 tasks      | elapsed: 49.5min\n",
      "[Parallel(n_jobs=1)]: Done 153 tasks      | elapsed: 49.8min\n",
      "[Parallel(n_jobs=1)]: Done 154 tasks      | elapsed: 50.2min\n",
      "[Parallel(n_jobs=1)]: Done 155 tasks      | elapsed: 50.5min\n",
      "[Parallel(n_jobs=1)]: Done 156 tasks      | elapsed: 50.9min\n",
      "[Parallel(n_jobs=1)]: Done 157 tasks      | elapsed: 51.3min\n",
      "[Parallel(n_jobs=1)]: Done 158 tasks      | elapsed: 51.7min\n",
      "[Parallel(n_jobs=1)]: Done 159 tasks      | elapsed: 52.1min\n",
      "[Parallel(n_jobs=1)]: Done 160 tasks      | elapsed: 52.5min\n",
      "[Parallel(n_jobs=1)]: Done 161 tasks      | elapsed: 52.9min\n",
      "[Parallel(n_jobs=1)]: Done 162 tasks      | elapsed: 53.4min\n",
      "[Parallel(n_jobs=1)]: Done 163 tasks      | elapsed: 53.8min\n",
      "[Parallel(n_jobs=1)]: Done 164 tasks      | elapsed: 54.2min\n",
      "[Parallel(n_jobs=1)]: Done 165 tasks      | elapsed: 54.7min\n",
      "[Parallel(n_jobs=1)]: Done 166 tasks      | elapsed: 55.2min\n",
      "[Parallel(n_jobs=1)]: Done 167 tasks      | elapsed: 55.7min\n",
      "[Parallel(n_jobs=1)]: Done 168 tasks      | elapsed: 56.1min\n",
      "[Parallel(n_jobs=1)]: Done 169 tasks      | elapsed: 56.6min\n",
      "[Parallel(n_jobs=1)]: Done 170 tasks      | elapsed: 57.0min\n",
      "[Parallel(n_jobs=1)]: Done 171 tasks      | elapsed: 57.4min\n",
      "[Parallel(n_jobs=1)]: Done 172 tasks      | elapsed: 57.8min\n",
      "[Parallel(n_jobs=1)]: Done 173 tasks      | elapsed: 58.3min\n",
      "[Parallel(n_jobs=1)]: Done 174 tasks      | elapsed: 58.7min\n",
      "[Parallel(n_jobs=1)]: Done 175 tasks      | elapsed: 59.1min\n",
      "[Parallel(n_jobs=1)]: Done 176 tasks      | elapsed: 59.5min\n",
      "[Parallel(n_jobs=1)]: Done 177 tasks      | elapsed: 59.9min\n",
      "[Parallel(n_jobs=1)]: Done 178 tasks      | elapsed: 60.3min\n",
      "[Parallel(n_jobs=1)]: Done 179 tasks      | elapsed: 60.7min\n",
      "[Parallel(n_jobs=1)]: Done 180 tasks      | elapsed: 61.1min\n",
      "[Parallel(n_jobs=1)]: Done 181 tasks      | elapsed: 61.5min\n",
      "[Parallel(n_jobs=1)]: Done 182 tasks      | elapsed: 61.9min\n",
      "[Parallel(n_jobs=1)]: Done 183 tasks      | elapsed: 62.4min\n",
      "[Parallel(n_jobs=1)]: Done 184 tasks      | elapsed: 62.8min\n",
      "[Parallel(n_jobs=1)]: Done 185 tasks      | elapsed: 63.2min\n",
      "[Parallel(n_jobs=1)]: Done 186 tasks      | elapsed: 63.6min\n",
      "[Parallel(n_jobs=1)]: Done 187 tasks      | elapsed: 64.0min\n",
      "[Parallel(n_jobs=1)]: Done 188 tasks      | elapsed: 64.4min\n",
      "[Parallel(n_jobs=1)]: Done 189 tasks      | elapsed: 64.8min\n",
      "[Parallel(n_jobs=1)]: Done 190 tasks      | elapsed: 65.2min\n",
      "[Parallel(n_jobs=1)]: Done 191 tasks      | elapsed: 65.6min\n",
      "[Parallel(n_jobs=1)]: Done 192 tasks      | elapsed: 66.0min\n",
      "[Parallel(n_jobs=1)]: Done 193 tasks      | elapsed: 66.4min\n",
      "[Parallel(n_jobs=1)]: Done 194 tasks      | elapsed: 66.8min\n",
      "[Parallel(n_jobs=1)]: Done 195 tasks      | elapsed: 67.3min\n",
      "[Parallel(n_jobs=1)]: Done 196 tasks      | elapsed: 67.7min\n",
      "[Parallel(n_jobs=1)]: Done 197 tasks      | elapsed: 68.1min\n",
      "[Parallel(n_jobs=1)]: Done 198 tasks      | elapsed: 68.5min\n",
      "[Parallel(n_jobs=1)]: Done 199 tasks      | elapsed: 68.9min\n",
      "[Parallel(n_jobs=1)]: Done 200 tasks      | elapsed: 69.3min\n",
      "[Parallel(n_jobs=1)]: Done 201 tasks      | elapsed: 69.7min\n",
      "[Parallel(n_jobs=1)]: Done 202 tasks      | elapsed: 70.1min\n",
      "[Parallel(n_jobs=1)]: Done 203 tasks      | elapsed: 70.6min\n",
      "[Parallel(n_jobs=1)]: Done 204 tasks      | elapsed: 71.0min\n",
      "[Parallel(n_jobs=1)]: Done 205 tasks      | elapsed: 71.4min\n",
      "[Parallel(n_jobs=1)]: Done 206 tasks      | elapsed: 71.8min\n",
      "[Parallel(n_jobs=1)]: Done 207 tasks      | elapsed: 72.3min\n",
      "[Parallel(n_jobs=1)]: Done 208 tasks      | elapsed: 72.7min\n",
      "[Parallel(n_jobs=1)]: Done 209 tasks      | elapsed: 73.2min\n",
      "[Parallel(n_jobs=1)]: Done 210 tasks      | elapsed: 73.6min\n",
      "[Parallel(n_jobs=1)]: Done 211 tasks      | elapsed: 74.0min\n",
      "[Parallel(n_jobs=1)]: Done 212 tasks      | elapsed: 74.4min\n",
      "[Parallel(n_jobs=1)]: Done 213 tasks      | elapsed: 74.9min\n",
      "[Parallel(n_jobs=1)]: Done 214 tasks      | elapsed: 75.3min\n",
      "[Parallel(n_jobs=1)]: Done 215 tasks      | elapsed: 75.7min\n",
      "[Parallel(n_jobs=1)]: Done 216 tasks      | elapsed: 76.1min\n",
      "[Parallel(n_jobs=1)]: Done 217 tasks      | elapsed: 76.6min\n",
      "[Parallel(n_jobs=1)]: Done 218 tasks      | elapsed: 77.0min\n",
      "[Parallel(n_jobs=1)]: Done 219 tasks      | elapsed: 77.4min\n",
      "[Parallel(n_jobs=1)]: Done 220 tasks      | elapsed: 77.8min\n",
      "[Parallel(n_jobs=1)]: Done 221 tasks      | elapsed: 78.3min\n",
      "[Parallel(n_jobs=1)]: Done 222 tasks      | elapsed: 78.7min\n",
      "[Parallel(n_jobs=1)]: Done 223 tasks      | elapsed: 79.1min\n",
      "[Parallel(n_jobs=1)]: Done 224 tasks      | elapsed: 79.5min\n",
      "[Parallel(n_jobs=1)]: Done 225 tasks      | elapsed: 79.9min\n",
      "[Parallel(n_jobs=1)]: Done 226 tasks      | elapsed: 80.3min\n",
      "[Parallel(n_jobs=1)]: Done 227 tasks      | elapsed: 80.7min\n",
      "[Parallel(n_jobs=1)]: Done 228 tasks      | elapsed: 81.2min\n",
      "[Parallel(n_jobs=1)]: Done 229 tasks      | elapsed: 81.5min\n",
      "[Parallel(n_jobs=1)]: Done 230 tasks      | elapsed: 82.0min\n",
      "[Parallel(n_jobs=1)]: Done 231 tasks      | elapsed: 82.4min\n",
      "[Parallel(n_jobs=1)]: Done 232 tasks      | elapsed: 82.8min\n",
      "[Parallel(n_jobs=1)]: Done 233 tasks      | elapsed: 83.2min\n",
      "[Parallel(n_jobs=1)]: Done 234 tasks      | elapsed: 83.6min\n",
      "[Parallel(n_jobs=1)]: Done 235 tasks      | elapsed: 84.0min\n",
      "[Parallel(n_jobs=1)]: Done 236 tasks      | elapsed: 84.4min\n",
      "[Parallel(n_jobs=1)]: Done 237 tasks      | elapsed: 84.8min\n",
      "[Parallel(n_jobs=1)]: Done 238 tasks      | elapsed: 85.2min\n",
      "[Parallel(n_jobs=1)]: Done 239 tasks      | elapsed: 85.7min\n",
      "[Parallel(n_jobs=1)]: Done 240 tasks      | elapsed: 86.1min\n",
      "[Parallel(n_jobs=1)]: Done 240 tasks      | elapsed: 86.1min\n",
      "Best score found in the gridSearchCV:  0.9915365170152469\n",
      "Best parameters found in the gridSearchCV:  {'n_epochs': 25, 'lr_bu': 0.002, 'lr_bi': 0.002, 'reg_pu': 0.4, 'reg_qi': 0.4}\n"
     ]
    }
   ],
   "execution_count": 6
  },
  {
   "metadata": {},
   "cell_type": "markdown",
   "source": [
    "## Slope One Model\n",
    "\n"
   ]
  },
  {
   "metadata": {
    "ExecuteTime": {
     "end_time": "2024-10-06T16:27:20.268824Z",
     "start_time": "2024-10-06T14:26:12.397057Z"
    }
   },
   "cell_type": "code",
   "source": [
    "from surprise import SlopeOne\n",
    "from surprise.model_selection import GridSearchCV\n",
    "\n",
    "# getting the best model using grid search CV\n",
    "params_grid = {} # no hyperparameters to tune\n",
    "grid_search = GridSearchCV(SlopeOne, params_grid, measures=['rmse', 'mae'], cv=5, n_jobs=1, joblib_verbose=100)\n",
    "grid_search.fit(data) # fitting the best model\n",
    "\n",
    "print(\"Best score found in the gridSearchCV: \", grid_search.best_score['rmse'])\n",
    "#print(\"Best parameters found in the gridSearchCV: \", grid_search.best_params['rmse'])\n",
    "\n",
    "average_scores.append(('Slope One', grid_search.best_score['rmse'])) # storing the average RMSE of the best model"
   ],
   "outputs": [
    {
     "name": "stderr",
     "output_type": "stream",
     "text": [
      "C:\\Users\\pedro\\AppData\\Local\\Packages\\PythonSoftwareFoundation.Python.3.11_qbz5n2kfra8p0\\LocalCache\\local-packages\\Python311\\site-packages\\joblib\\externals\\loky\\process_executor.py:752: UserWarning: A worker stopped while some jobs were given to the executor. This can be caused by a too short worker timeout or by a memory leak.\n",
      "  warnings.warn(\n"
     ]
    },
    {
     "name": "stdout",
     "output_type": "stream",
     "text": [
      "Best score found in the gridSearchCV:  0.8545399607181323\n",
      "Best parameters found in the gridSearchCV:  {}\n"
     ]
    }
   ],
   "execution_count": 9
  },
  {
   "metadata": {},
   "cell_type": "markdown",
   "source": "## Co-clustering Model"
  },
  {
   "metadata": {},
   "cell_type": "code",
   "outputs": [],
   "execution_count": null,
   "source": ""
  },
  {
   "metadata": {
    "ExecuteTime": {
     "end_time": "2024-10-07T06:26:27.698716Z",
     "start_time": "2024-10-07T03:20:23.310915Z"
    }
   },
   "cell_type": "code",
   "source": [
    "from surprise import CoClustering\n",
    "from surprise.model_selection import GridSearchCV\n",
    "\n",
    "# getting the best model using grid search CV\n",
    "params_grid = {'n_cltr_u': [20, 30], 'n_cltr_i': [20, 30], 'n_epochs': [20, 30]}\n",
    "grid_search = GridSearchCV(CoClustering, params_grid, measures=['rmse', 'mae'], cv=5, n_jobs=1, joblib_verbose=100)\n",
    "grid_search.fit(data_10) # fitting the best model\n",
    "\n",
    "print(\"Best score found in the gridSearchCV: \", grid_search.best_score['rmse'])\n",
    "print(\"Best parameters found in the gridSearchCV: \", grid_search.best_params['rmse'])\n",
    "\n",
    "average_scores.append(('Co-clustering', grid_search.best_score['rmse'])) # storing the average RMSE of the best model"
   ],
   "outputs": [
    {
     "name": "stdout",
     "output_type": "stream",
     "text": [
      "[Parallel(n_jobs=1)]: Done   1 tasks      | elapsed:  3.2min\n",
      "[Parallel(n_jobs=1)]: Done   2 tasks      | elapsed:  6.3min\n",
      "[Parallel(n_jobs=1)]: Done   3 tasks      | elapsed:  9.3min\n",
      "[Parallel(n_jobs=1)]: Done   4 tasks      | elapsed: 12.3min\n",
      "[Parallel(n_jobs=1)]: Done   5 tasks      | elapsed: 15.2min\n",
      "[Parallel(n_jobs=1)]: Done   6 tasks      | elapsed: 19.2min\n",
      "[Parallel(n_jobs=1)]: Done   7 tasks      | elapsed: 23.3min\n",
      "[Parallel(n_jobs=1)]: Done   8 tasks      | elapsed: 27.4min\n",
      "[Parallel(n_jobs=1)]: Done   9 tasks      | elapsed: 31.3min\n",
      "[Parallel(n_jobs=1)]: Done  10 tasks      | elapsed: 35.3min\n",
      "[Parallel(n_jobs=1)]: Done  11 tasks      | elapsed: 38.5min\n",
      "[Parallel(n_jobs=1)]: Done  12 tasks      | elapsed: 41.8min\n",
      "[Parallel(n_jobs=1)]: Done  13 tasks      | elapsed: 45.0min\n",
      "[Parallel(n_jobs=1)]: Done  14 tasks      | elapsed: 48.2min\n",
      "[Parallel(n_jobs=1)]: Done  15 tasks      | elapsed: 51.5min\n",
      "[Parallel(n_jobs=1)]: Done  16 tasks      | elapsed: 56.4min\n",
      "[Parallel(n_jobs=1)]: Done  17 tasks      | elapsed: 61.3min\n",
      "[Parallel(n_jobs=1)]: Done  18 tasks      | elapsed: 66.3min\n",
      "[Parallel(n_jobs=1)]: Done  19 tasks      | elapsed: 71.3min\n",
      "[Parallel(n_jobs=1)]: Done  20 tasks      | elapsed: 76.5min\n",
      "[Parallel(n_jobs=1)]: Done  21 tasks      | elapsed: 80.0min\n",
      "[Parallel(n_jobs=1)]: Done  22 tasks      | elapsed: 83.7min\n",
      "[Parallel(n_jobs=1)]: Done  23 tasks      | elapsed: 87.9min\n",
      "[Parallel(n_jobs=1)]: Done  24 tasks      | elapsed: 92.1min\n",
      "[Parallel(n_jobs=1)]: Done  25 tasks      | elapsed: 95.8min\n",
      "[Parallel(n_jobs=1)]: Done  26 tasks      | elapsed: 101.6min\n",
      "[Parallel(n_jobs=1)]: Done  27 tasks      | elapsed: 107.3min\n",
      "[Parallel(n_jobs=1)]: Done  28 tasks      | elapsed: 113.2min\n",
      "[Parallel(n_jobs=1)]: Done  29 tasks      | elapsed: 119.1min\n",
      "[Parallel(n_jobs=1)]: Done  30 tasks      | elapsed: 125.1min\n",
      "[Parallel(n_jobs=1)]: Done  31 tasks      | elapsed: 130.0min\n",
      "[Parallel(n_jobs=1)]: Done  32 tasks      | elapsed: 135.1min\n",
      "[Parallel(n_jobs=1)]: Done  33 tasks      | elapsed: 139.9min\n",
      "[Parallel(n_jobs=1)]: Done  34 tasks      | elapsed: 145.0min\n",
      "[Parallel(n_jobs=1)]: Done  35 tasks      | elapsed: 149.9min\n",
      "[Parallel(n_jobs=1)]: Done  36 tasks      | elapsed: 157.2min\n",
      "[Parallel(n_jobs=1)]: Done  37 tasks      | elapsed: 164.7min\n",
      "[Parallel(n_jobs=1)]: Done  38 tasks      | elapsed: 172.1min\n",
      "[Parallel(n_jobs=1)]: Done  39 tasks      | elapsed: 178.9min\n",
      "[Parallel(n_jobs=1)]: Done  40 tasks      | elapsed: 185.6min\n",
      "[Parallel(n_jobs=1)]: Done  40 tasks      | elapsed: 185.7min\n",
      "Best score found in the gridSearchCV:  0.985568457116211\n",
      "Best parameters found in the gridSearchCV:  {'n_cltr_u': 20, 'n_cltr_i': 20, 'n_epochs': 30}\n"
     ]
    }
   ],
   "execution_count": 8
  },
  {
   "metadata": {},
   "cell_type": "markdown",
   "source": "## Plotting the best scores of each model"
  },
  {
   "metadata": {
    "ExecuteTime": {
     "end_time": "2024-10-07T06:34:55.326734Z",
     "start_time": "2024-10-07T06:34:55.204981Z"
    }
   },
   "cell_type": "code",
   "source": [
    "import matplotlib.pyplot as plt\n",
    "\n",
    "# delete later\n",
    "average_scores = [ { \"Model\": \"Normal Predictor\", \"RMSE\": 1.4325232539910562 }, { \"Model\": \"BaselineOnly\", \"RMSE\": 0.8571572130397502 }, { \"Model\": \"SVD\", \"RMSE\": 0.8803879344269481 }, { \"Model\": \"SVD++\", \"RMSE\": 0.8945842061742721 }, { \"Model\": \"NMF\", \"RMSE\": 0.9915365170152469 }, { \"Model\": \"Slope One\", \"RMSE\": 0.8545399607181323 }, { \"Model\": \"Co-clustering\", \"RMSE\": 0.985568457116211 } ]\n",
    "\n",
    "# plotting the best scores of each model, the lower the RMSE the better the model\n",
    "best_scores = pd.DataFrame(average_scores, columns=['Model', 'RMSE'])\n",
    "best_scores.plot(kind='bar', x='Model', y='RMSE', legend=False)\n",
    "plt.title('Best RMSE Scores of Each Model')\n",
    "plt.xlabel('Model')\n",
    "plt.ylabel('RMSE')\n",
    "plt.show()"
   ],
   "outputs": [
    {
     "data": {
      "text/plain": [
       "<Figure size 640x480 with 1 Axes>"
      ],
      "image/png": "[encoded data removed]"
     },
     "metadata": {},
     "output_type": "display_data"
    }
   ],
   "execution_count": 10
  }
 ],
 "metadata": {
  "kernelspec": {
   "display_name": "Python 3",
   "language": "python",
   "name": "python3"
  },
  "language_info": {
   "codemirror_mode": {
    "name": "ipython",
    "version": 3
   },
   "file_extension": ".py",
   "mimetype": "text/x-python",
   "name": "python",
   "nbconvert_exporter": "python",
   "pygments_lexer": "ipython3",
   "version": "3.11.9"
  }
 },
 "nbformat": 4,
 "nbformat_minor": 2
}
