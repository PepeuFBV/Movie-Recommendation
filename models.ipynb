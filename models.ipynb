{
 "cells": [
  {
   "cell_type": "code",
   "metadata": {
    "ExecuteTime": {
     "end_time": "2024-10-04T22:43:55.658740Z",
     "start_time": "2024-10-04T22:43:36.537132Z"
    }
   },
   "source": [
    "import pandas as pd\n",
    "from surprise import Reader, Dataset, SVD\n",
    "from surprise.model_selection import cross_validate\n",
    "\n",
    "reader = Reader()\n",
    "ratings = pd.read_csv('MovieLens_data/ratings_cleaned.csv')\n",
    "print(ratings.head())\n",
    "\n",
    "data = Dataset.load_from_df(ratings[['userId', 'movieId', 'rating']], reader)"
   ],
   "outputs": [
    {
     "name": "stdout",
     "output_type": "stream",
     "text": [
      "   userId  movieId  rating\n",
      "0       1        2     3.5\n",
      "1       1       29     3.5\n",
      "2       1       32     3.5\n",
      "3       1       47     3.5\n",
      "4       1       50     3.5\n"
     ]
    }
   ],
   "execution_count": 4
  },
  {
   "metadata": {},
   "cell_type": "markdown",
   "source": "## SVD Model"
  },
  {
   "metadata": {
    "ExecuteTime": {
     "end_time": "2024-10-04T23:16:45.826127Z",
     "start_time": "2024-10-04T22:51:01.519415Z"
    }
   },
   "cell_type": "code",
   "source": [
    "algorithm = SVD()\n",
    "\n",
    "cross_validate(algorithm, data, measures=['RMSE', 'MAE'], cv=5, verbose=3)"
   ],
   "outputs": [
    {
     "name": "stdout",
     "output_type": "stream",
     "text": [
      "Evaluating RMSE, MAE of algorithm SVD on 5 split(s).\n",
      "\n",
      "                  Fold 1  Fold 2  Fold 3  Fold 4  Fold 5  Mean    Std     \n",
      "RMSE (testset)    0.7860  0.7868  0.7862  0.7864  0.7858  0.7862  0.0003  \n",
      "MAE (testset)     0.5981  0.5988  0.5983  0.5984  0.5981  0.5983  0.0002  \n",
      "Fit time          191.08  189.23  197.28  196.55  213.84  197.60  8.69    \n",
      "Test time         72.29   64.83   59.62   73.61   78.39   69.75   6.68    \n"
     ]
    },
    {
     "data": {
      "text/plain": [
       "{'test_rmse': array([0.78603921, 0.78677499, 0.78617186, 0.78637742, 0.78581697]),\n",
       " 'test_mae': array([0.59809748, 0.5987828 , 0.59828539, 0.59841097, 0.59813032]),\n",
       " 'fit_time': (191.0799880027771,\n",
       "  189.22729969024658,\n",
       "  197.28398656845093,\n",
       "  196.54926300048828,\n",
       "  213.84378337860107),\n",
       " 'test_time': (72.2936065196991,\n",
       "  64.82668781280518,\n",
       "  59.624117851257324,\n",
       "  73.61310696601868,\n",
       "  78.39264678955078)}"
      ]
     },
     "execution_count": 7,
     "metadata": {},
     "output_type": "execute_result"
    }
   ],
   "execution_count": 7
  },
  {
   "metadata": {
    "ExecuteTime": {
     "end_time": "2024-10-04T23:26:08.454172Z",
     "start_time": "2024-10-04T23:21:10.566045Z"
    }
   },
   "cell_type": "code",
   "source": [
    "# test the model\n",
    "from surprise.model_selection import train_test_split\n",
    "\n",
    "trainset, testset = train_test_split(data, test_size=0.25)\n",
    "algorithm.fit(trainset)\n",
    "predictions = algorithm.test(testset)\n",
    "\n",
    "from surprise import accuracy\n",
    "accuracy.rmse(predictions)\n",
    "print(predictions[:5])"
   ],
   "outputs": [
    {
     "name": "stdout",
     "output_type": "stream",
     "text": [
      "RMSE: 0.7892\n",
      "[Prediction(uid=31061, iid=339, r_ui=4.0, est=4.515228803886983, details={'was_impossible': False}), Prediction(uid=84826, iid=930, r_ui=4.0, est=3.7765532367010817, details={'was_impossible': False}), Prediction(uid=110010, iid=2990, r_ui=3.5, est=3.413634143543167, details={'was_impossible': False}), Prediction(uid=95699, iid=1270, r_ui=3.5, est=3.7075207865260853, details={'was_impossible': False}), Prediction(uid=102737, iid=339, r_ui=5.0, est=3.70449313021564, details={'was_impossible': False})]\n"
     ]
    }
   ],
   "execution_count": 9
  },
  {
   "metadata": {
    "ExecuteTime": {
     "end_time": "2024-10-04T23:40:50.130615Z",
     "start_time": "2024-10-04T23:40:44.318302Z"
    }
   },
   "cell_type": "code",
   "source": [
    "import pandas as pd\n",
    "\n",
    "# Read the ratings data\n",
    "ratings = pd.read_csv('MovieLens_data/ratings.csv')\n",
    "\n",
    "# Check if 'timestamp' column exists\n",
    "if 'timestamp' in ratings.columns:\n",
    "    # Read the movies data\n",
    "    movies = pd.read_csv('MovieLens_data/movies.csv')\n",
    "\n",
    "    # Get the movie with the highest timestamp\n",
    "    highest_timestamp_movie_id = ratings.loc[ratings['timestamp'].idxmax(), 'movieId']\n",
    "    highest_timestamp_movie_title = movies.loc[movies['movieId'] == highest_timestamp_movie_id, 'title'].values[0]\n",
    "\n",
    "    print(highest_timestamp_movie_title + \" has the highest timestamp, with a value of \" + str(ratings['timestamp'].max()))\n",
    "else:\n",
    "    print(\"The 'timestamp' column is missing in the ratings data.\")"
   ],
   "outputs": [
    {
     "name": "stdout",
     "output_type": "stream",
     "text": [
      "Girl with a Pearl Earring (2003) has the highest timestamp, with a value of 1427784002\n"
     ]
    }
   ],
   "execution_count": 15
  }
 ],
 "metadata": {
  "kernelspec": {
   "display_name": "Python 3",
   "language": "python",
   "name": "python3"
  },
  "language_info": {
   "codemirror_mode": {
    "name": "ipython",
    "version": 3
   },
   "file_extension": ".py",
   "mimetype": "text/x-python",
   "name": "python",
   "nbconvert_exporter": "python",
   "pygments_lexer": "ipython3",
   "version": "3.11.9"
  }
 },
 "nbformat": 4,
 "nbformat_minor": 2
}
